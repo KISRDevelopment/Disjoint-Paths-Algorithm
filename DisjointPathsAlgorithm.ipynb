{
 "cells": [
  {
   "cell_type": "code",
   "execution_count": 28,
   "id": "38f3a09a",
   "metadata": {},
   "outputs": [],
   "source": [
    "run Networks.ipynb"
   ]
  },
  {
   "cell_type": "code",
   "execution_count": 29,
   "id": "6d403d54",
   "metadata": {},
   "outputs": [],
   "source": [
    "import networkx as nx\n",
    "import time\n",
    "from copy import copy"
   ]
  },
  {
   "cell_type": "code",
   "execution_count": 30,
   "id": "6839c9e4",
   "metadata": {},
   "outputs": [],
   "source": [
    "class Node:\n",
    "\tdef __init__(self, x):\n",
    "\t\tself.ID = x\n",
    "\t\tself.paths = []\n",
    "\t\tself.isVisited = False\n",
    "\t\tself.hopCount = -1\n",
    "\t\tself.isReserved = False\n",
    "\tdef resetNode(self):\n",
    "\t\tself.paths = []\n",
    "\t\tself.isVisited = []\n",
    "\t\tself.hopCount = -1"
   ]
  },
  {
   "cell_type": "code",
   "execution_count": 31,
   "id": "73fc9215",
   "metadata": {},
   "outputs": [],
   "source": [
    "def addNeighbors(G, n, d):\n",
    "    for neighbor in G.neighbors(n):\n",
    "        if (not G.allNodes[neighbor].isReserved) and (G.allNodes[n].hopCount < G.limit):\n",
    "            if (not G.allNodes[neighbor].isVisited) or (G.allNodes[neighbor].hopCount > G.allNodes[n].hopCount):\n",
    "                G.allNodes[neighbor].isVisited = True\n",
    "                G.allNodes[neighbor].hopCount = G.allNodes[n].hopCount + 1\n",
    "                G.allNodes[neighbor].paths = [sub + [neighbor] for sub in G.allNodes[n].paths]\n",
    "                if (neighbor != d) and (neighbor not in G.queue):\n",
    "                    G.queue.append(neighbor)\n",
    "                if (neighbor == d):\n",
    "                    G.limit = G.allNodes[neighbor].hopCount"
   ]
  },
  {
   "cell_type": "code",
   "execution_count": 32,
   "id": "cad56f47",
   "metadata": {},
   "outputs": [],
   "source": [
    "def is_disjoint(path1, path2):\n",
    "    for i in range(1, len(path1) - 1):\n",
    "        if path1[i] == path2[i]:\n",
    "            return False\n",
    "    return True"
   ]
  },
  {
   "cell_type": "code",
   "execution_count": 33,
   "id": "ba88d6c3",
   "metadata": {},
   "outputs": [],
   "source": [
    "def filterDisjointPaths(current_index, current_paths, remaining_paths):\n",
    "    if current_index == len(remaining_paths):\n",
    "        return current_paths\n",
    "\n",
    "    path = remaining_paths[current_index]\n",
    "    disjoint = True\n",
    "    for existing_path in current_paths:\n",
    "        if not is_disjoint(path, existing_path):\n",
    "            disjoint = False\n",
    "            break\n",
    "\n",
    "    with_current = current_paths.copy()\n",
    "    if disjoint:\n",
    "        with_current.append(path)\n",
    "\n",
    "    without_current = filterDisjointPaths(current_index + 1, current_paths, remaining_paths)\n",
    "    with_current = filterDisjointPaths(current_index + 1, with_current, remaining_paths)\n",
    "\n",
    "    return with_current if len(with_current) > len(without_current) else without_current"
   ]
  },
  {
   "cell_type": "code",
   "execution_count": 34,
   "id": "2330bf03",
   "metadata": {},
   "outputs": [],
   "source": [
    "def discoverPaths(G, source, destination):\n",
    "    G_tmp = copy(G)\n",
    "    G_tmp.queue.append(source)\n",
    "    G_tmp.allNodes[source].hopCount = 0\n",
    "    G_tmp.allNodes[source].isVisited = True\n",
    "    G_tmp.allNodes[source].paths.append([source])\n",
    "    while G_tmp.queue:\n",
    "        activeNode = G_tmp.queue[0]\n",
    "        G_tmp.allNodes[activeNode].paths = filterDisjointPaths(0, [], G_tmp.allNodes[activeNode].paths)\n",
    "        addNeighbors(G_tmp, activeNode, destination)\n",
    "        del G_tmp.queue[0]\n",
    "    if G_tmp.allNodes[destination].isVisited:\n",
    "        G.disjointPaths = G.disjointPaths + filterDisjointPaths(0, [], G_tmp.allNodes[destination].paths)\n",
    "        for path in G.disjointPaths:\n",
    "            for node in path:\n",
    "                if node != destination:\n",
    "                    G.allNodes[node].isReserved = True"
   ]
  },
  {
   "cell_type": "code",
   "execution_count": 35,
   "id": "f8fc0649",
   "metadata": {},
   "outputs": [],
   "source": [
    "def beginDiscovery(G, source, destination):\n",
    "    if G.has_edge(source,destination):\n",
    "        G.remove_edge(source,destination)\n",
    "        G.disjointPaths.append([source,destination])\n",
    "    while (len(G.disjointPaths) < G.degree(source)):\n",
    "        discoverPaths(G, source, destination)\n",
    "    return G.disjointPaths"
   ]
  },
  {
   "cell_type": "code",
   "execution_count": 42,
   "id": "8df74041",
   "metadata": {},
   "outputs": [
    {
     "data": {
      "text/plain": [
       "[['0,0', '1,0', '1,1', '3,1', '3,2', '7,2'],\n",
       " ['0,0', '1,0', '1,1', '3,1', '3,2', '7,2'],\n",
       " ['0,0', '1,0', '1,1', '3,1', '3,2', '7,2']]"
      ]
     },
     "execution_count": 42,
     "metadata": {},
     "output_type": "execute_result"
    }
   ],
   "source": [
    "# Mesh Networks: mesh\n",
    "# Torus Networks: torus\n",
    "# Gaussian Networks: gaussian | Gaussian8Plus9 | Gaussian8Plus11 | Gaussian9Plus9 | Gaussian8Plus10 | Gaussian7Plus13\n",
    "# EJ Networks: EJ8Plus9 | EJ7Plus10 | EJ5Plus12 | EJ9Plus9 | EJ5Plus13\n",
    "# Cube-Connected Cycles Networks: CCC4D\n",
    "# Hypercube Networks: HC5D\n",
    "testNetwork = CCC4D\n",
    "G = nx.Graph()\n",
    "G.add_nodes_from(testNetwork.Nodes)\n",
    "G.add_edges_from(testNetwork.Edges)\n",
    "G.allNodes = {}\n",
    "G.reservedNodes = []\n",
    "G.disjointPaths = []\n",
    "G.queue = []\n",
    "G.limit = len(testNetwork.Nodes)\n",
    "for node in testNetwork.Nodes:\n",
    "    G.allNodes[node]=Node(node)\n",
    "    \n",
    "start = time.time()\n",
    "beginDiscovery(G, '0,0','7,2')\n",
    "end = time.time()\n",
    "\n",
    "G.disjointPaths"
   ]
  },
  {
   "cell_type": "code",
   "execution_count": null,
   "id": "1f3581c4",
   "metadata": {},
   "outputs": [],
   "source": []
  }
 ],
 "metadata": {
  "kernelspec": {
   "display_name": "Python 3 (ipykernel)",
   "language": "python",
   "name": "python3"
  },
  "language_info": {
   "codemirror_mode": {
    "name": "ipython",
    "version": 3
   },
   "file_extension": ".py",
   "mimetype": "text/x-python",
   "name": "python",
   "nbconvert_exporter": "python",
   "pygments_lexer": "ipython3",
   "version": "3.8.11"
  }
 },
 "nbformat": 4,
 "nbformat_minor": 5
}
